{
  "nbformat": 4,
  "nbformat_minor": 0,
  "metadata": {
    "colab": {
      "provenance": [],
      "authorship_tag": "ABX9TyOWLOnSndTnMWtkLzQGtJPS",
      "include_colab_link": true
    },
    "kernelspec": {
      "name": "python3",
      "display_name": "Python 3"
    },
    "language_info": {
      "name": "python"
    }
  },
  "cells": [
    {
      "cell_type": "markdown",
      "metadata": {
        "id": "view-in-github",
        "colab_type": "text"
      },
      "source": [
        "<a href=\"https://colab.research.google.com/github/AndreeAguilar/Extracci-n-de-Datos/blob/main/Extraccion_de_Datos.ipynb\" target=\"_parent\"><img src=\"https://colab.research.google.com/assets/colab-badge.svg\" alt=\"Open In Colab\"/></a>"
      ]
    },
    {
      "cell_type": "code",
      "execution_count": 5,
      "metadata": {
        "id": "RV-HeDkdWL_C"
      },
      "outputs": [],
      "source": [
        "import pandas as pd\n",
        "import numpy as np\n",
        "import matplotlib.pyplot as plt\n",
        "import seaborn as sns\n",
        "import io"
      ]
    },
    {
      "cell_type": "code",
      "source": [
        "from google.colab import files\n",
        "files.upload()"
      ],
      "metadata": {
        "id": "gFqhreIeWOmp"
      },
      "execution_count": null,
      "outputs": []
    },
    {
      "cell_type": "code",
      "source": [
        "df= pd.read_csv(\"CountryTable.csv\")\n",
        "df"
      ],
      "metadata": {
        "id": "zCxlw-LkWnKg"
      },
      "execution_count": null,
      "outputs": []
    },
    {
      "cell_type": "code",
      "source": [
        "#De la variable region filtro los datos de Africa Central\n",
        "filtro1=df[df[\"region\"]== \"Central Africa\"]\n",
        "filtro1\n"
      ],
      "metadata": {
        "id": "D9k_jhrMeyQf"
      },
      "execution_count": null,
      "outputs": []
    },
    {
      "cell_type": "code",
      "source": [
        "#De la variable name filtro los datos de Yemen\n",
        "filtro2=df[df[\"name\"]== \"Yemen\"]\n",
        "filtro2"
      ],
      "metadata": {
        "id": "yM4kMY4IfTdB"
      },
      "execution_count": null,
      "outputs": []
    },
    {
      "cell_type": "code",
      "source": [
        "#Se filtran los datos de la fila 100 al 200\n",
        "filtro3= df.iloc[100:200,: ]\n",
        "filtro3"
      ],
      "metadata": {
        "id": "8bKuxjrxiFtr"
      },
      "execution_count": null,
      "outputs": []
    },
    {
      "cell_type": "code",
      "source": [
        "#Se filtra de la primera fila a la 150\n",
        "filtro4= df.iloc[0:150,: ]\n",
        "filtro4"
      ],
      "metadata": {
        "id": "w6hzBS3Ei7YK"
      },
      "execution_count": null,
      "outputs": []
    },
    {
      "cell_type": "code",
      "source": [
        "#Se filtra de la primera columna a la tercera\n",
        "filtro5=df.iloc[ : , 0:3]\n",
        "filtro5"
      ],
      "metadata": {
        "id": "JNAsjvOsjmPa"
      },
      "execution_count": null,
      "outputs": []
    },
    {
      "cell_type": "code",
      "source": [
        "#Se filtra de la columna cuatro a la seis\n",
        "filtro6=df.iloc[ : , 4:6]\n",
        "filtro6"
      ],
      "metadata": {
        "id": "dgxle5LVj2Bu"
      },
      "execution_count": null,
      "outputs": []
    },
    {
      "cell_type": "code",
      "source": [
        "from google.colab import files\n",
        "uploaded=files.upload()\n",
        "df = pd.read_csv(io.BytesIO(uploaded [\"CountryTable.csv\"]), index_col=3) \n",
        "df"
      ],
      "metadata": {
        "id": "l5FPsNXJkko0"
      },
      "execution_count": null,
      "outputs": []
    },
    {
      "cell_type": "code",
      "source": [
        "#De las variables Southern and Central Asia y Central Africa seleccionamos los datos de surface_area\n",
        "filtro7=df.loc[[\"Southern and Central Asia\",\"Central Africa\"], [\"surface_area\"]]\n",
        "filtro7"
      ],
      "metadata": {
        "id": "wZJhy91ElQdo"
      },
      "execution_count": null,
      "outputs": []
    },
    {
      "cell_type": "code",
      "source": [
        "#De las variables Western Europe y Caribbean seleccionamos los datos de gnp\n",
        "filtro8=df.loc[[\"Western Europe\",\"Caribbean\"], [\"gnp\"]]\n",
        "filtro8"
      ],
      "metadata": {
        "id": "2iozS54uo-No"
      },
      "execution_count": null,
      "outputs": []
    },
    {
      "cell_type": "code",
      "source": [
        "#Impresión de las primeras 2 filas\n",
        "filtro9=df.head(2)\n",
        "filtro9"
      ],
      "metadata": {
        "id": "WCXrEEFxmKMu"
      },
      "execution_count": null,
      "outputs": []
    },
    {
      "cell_type": "code",
      "source": [
        "#Impresión de las primeras 4 filas\n",
        "filtro10=df.head(4)\n",
        "filtro10"
      ],
      "metadata": {
        "id": "Lr8n1Q_ToQpA"
      },
      "execution_count": null,
      "outputs": []
    },
    {
      "cell_type": "code",
      "source": [
        "#Filtra toda la población menor de 10000\n",
        "filtro11=df[df[\"population\"]<10000]\n",
        "filtro11"
      ],
      "metadata": {
        "id": "9QmXirSfp2O-"
      },
      "execution_count": null,
      "outputs": []
    },
    {
      "cell_type": "code",
      "source": [
        "#Filtra todos los paises con una area mayor a 12000000\t\n",
        "filtro12=df[df[\"surface_area\"]>12000000\t]\n",
        "filtro12"
      ],
      "metadata": {
        "id": "9pdX6xv4q1D1"
      },
      "execution_count": null,
      "outputs": []
    },
    {
      "cell_type": "code",
      "source": [
        "#Filtro o: Filtra datos cumplan una de las varible\n",
        "filtro13=df[(df[\"population\"] > 1000000) | (df[\"continent\"] == \"Asia\")]\n",
        "filtro13"
      ],
      "metadata": {
        "id": "eXseKvh9rbWw"
      },
      "execution_count": null,
      "outputs": []
    },
    {
      "cell_type": "code",
      "source": [
        "filtro14=df[(df[\"gnp\"] > 130000) | (df[\"population\"] < 150000)]\n",
        "filtro14"
      ],
      "metadata": {
        "id": "LE2VDRStsdL1"
      },
      "execution_count": null,
      "outputs": []
    },
    {
      "cell_type": "code",
      "source": [
        "#Filtro Y: Filtra datos que cumplan dos más variables\n",
        "filtro15=df[(df[\"government_form\"] == \"Republic\") & (df[\"population\"] == 12878000)]\n",
        "filtro15\n"
      ],
      "metadata": {
        "id": "iAMErO0UsPWG"
      },
      "execution_count": null,
      "outputs": []
    },
    {
      "cell_type": "code",
      "source": [
        "filtro16=df[(df[\"continent\"] == \"Asia\") & (df[\"gnp\"] == 5976.0)]\n",
        "filtro16"
      ],
      "metadata": {
        "id": "fRA78nlese7I"
      },
      "execution_count": null,
      "outputs": []
    },
    {
      "cell_type": "code",
      "source": [
        "#Filtro not: Excluye los datos con las varibales seleccionadas\n",
        "filtro17=df[~(df[\"continent\"] == \"Europe\")]\n",
        "filtro17"
      ],
      "metadata": {
        "id": "wD-LHcMrsPrO"
      },
      "execution_count": null,
      "outputs": []
    },
    {
      "cell_type": "code",
      "source": [
        "filtro17=df[~(df[\"government_form\"] == \"Republic\") & ~(df[\"gnp\"] < 50000)]\n",
        "filtro17"
      ],
      "metadata": {
        "id": "IyLtH1zKsl0i"
      },
      "execution_count": null,
      "outputs": []
    },
    {
      "cell_type": "code",
      "source": [
        "filtro6.to_csv(\"Filtro .csv\")"
      ],
      "metadata": {
        "id": "mzrm31w8ff53"
      },
      "execution_count": null,
      "outputs": []
    },
    {
      "cell_type": "code",
      "source": [
        "from google.colab import files\n",
        "\n",
        "files.download(\"Filtro .csv\")"
      ],
      "metadata": {
        "colab": {
          "base_uri": "https://localhost:8080/",
          "height": 17
        },
        "id": "KCKFM7BGfvdE",
        "outputId": "6f69cb70-e861-4284-dc81-19596ab0b406"
      },
      "execution_count": null,
      "outputs": [
        {
          "output_type": "display_data",
          "data": {
            "text/plain": [
              "<IPython.core.display.Javascript object>"
            ],
            "application/javascript": [
              "\n",
              "    async function download(id, filename, size) {\n",
              "      if (!google.colab.kernel.accessAllowed) {\n",
              "        return;\n",
              "      }\n",
              "      const div = document.createElement('div');\n",
              "      const label = document.createElement('label');\n",
              "      label.textContent = `Downloading \"${filename}\": `;\n",
              "      div.appendChild(label);\n",
              "      const progress = document.createElement('progress');\n",
              "      progress.max = size;\n",
              "      div.appendChild(progress);\n",
              "      document.body.appendChild(div);\n",
              "\n",
              "      const buffers = [];\n",
              "      let downloaded = 0;\n",
              "\n",
              "      const channel = await google.colab.kernel.comms.open(id);\n",
              "      // Send a message to notify the kernel that we're ready.\n",
              "      channel.send({})\n",
              "\n",
              "      for await (const message of channel.messages) {\n",
              "        // Send a message to notify the kernel that we're ready.\n",
              "        channel.send({})\n",
              "        if (message.buffers) {\n",
              "          for (const buffer of message.buffers) {\n",
              "            buffers.push(buffer);\n",
              "            downloaded += buffer.byteLength;\n",
              "            progress.value = downloaded;\n",
              "          }\n",
              "        }\n",
              "      }\n",
              "      const blob = new Blob(buffers, {type: 'application/binary'});\n",
              "      const a = document.createElement('a');\n",
              "      a.href = window.URL.createObjectURL(blob);\n",
              "      a.download = filename;\n",
              "      div.appendChild(a);\n",
              "      a.click();\n",
              "      div.remove();\n",
              "    }\n",
              "  "
            ]
          },
          "metadata": {}
        },
        {
          "output_type": "display_data",
          "data": {
            "text/plain": [
              "<IPython.core.display.Javascript object>"
            ],
            "application/javascript": [
              "download(\"download_ff44f34a-dc87-4b41-b05a-a4c0ea4d5512\", \"Filtro .csv\", 4176)"
            ]
          },
          "metadata": {}
        }
      ]
    }
  ]
}